{
 "cells": [
  {
   "cell_type": "markdown",
   "metadata": {},
   "source": [
    "# Generating a toy catalog for SLRealizer"
   ]
  },
  {
   "cell_type": "markdown",
   "metadata": {},
   "source": [
    "The OM10 mock lensed quasar catalog qso_mock.fits contains a list of LSST-like samples. Using the OM10 mock catalog and observation history data, we can generate a toy catalog for SLRealizer. The toy catalog assumes a null-deblender, where none of the light sources is deblended -- all the light sources in the system will be perceived as one huge source. This notebook shows how we can make a toy catalog."
   ]
  },
  {
   "cell_type": "markdown",
   "metadata": {},
   "source": [
    "## Requirements"
   ]
  },
  {
   "cell_type": "markdown",
   "metadata": {},
   "source": [
    "OM10 and desc.slrealizer(SLRealizer) are the only requirements."
   ]
  },
  {
   "cell_type": "code",
   "execution_count": 1,
   "metadata": {
    "collapsed": false
   },
   "outputs": [
    {
     "name": "stderr",
     "output_type": "stream",
     "text": [
      "/Users/Jenny/anaconda/envs/python2/lib/python2.7/site-packages/matplotlib/font_manager.py:273: UserWarning: Matplotlib is building the font cache using fc-list. This may take a moment.\n",
      "  warnings.warn('Matplotlib is building the font cache using fc-list. This may take a moment.')\n"
     ]
    }
   ],
   "source": [
    "import om10\n",
    "import desc.slrealizer\n",
    "import warnings\n",
    "warnings.filterwarnings(\"ignore\")"
   ]
  },
  {
   "cell_type": "markdown",
   "metadata": {},
   "source": [
    "We get the OM10 data, and paint the lenses in the OM10 catalog. Then, we pass that catalog data with an observation data to the SLRealizer constructor."
   ]
  },
  {
   "cell_type": "code",
   "execution_count": 2,
   "metadata": {
    "collapsed": false,
    "scrolled": true
   },
   "outputs": [
    {
     "name": "stdout",
     "output_type": "stream",
     "text": [
      "OM10: Full db.lenses table contains 15658 systems\n",
      "OM10: Initial db.sample contains 15658 systems\n"
     ]
    }
   ],
   "source": [
    "db = om10.DB()\n",
    "db.paint(synthetic=True)\n",
    "realizer = desc.slrealizer.SLRealizer(catalog=db, observation=\"../../../data/twinkles_observation_history.csv\")"
   ]
  },
  {
   "cell_type": "markdown",
   "metadata": {},
   "source": [
    "Then, we call the method `make_catalog` and pass in the number of systems that we want to be in the catalog. If we do not want to save the catalog, we can pass in `save = False`. The default is `save = True`, and the catalog will be saved in the `data` folder."
   ]
  },
  {
   "cell_type": "code",
   "execution_count": 3,
   "metadata": {
    "collapsed": false
   },
   "outputs": [
    {
     "name": "stdout",
     "output_type": "stream",
     "text": [
      "From the OM10 catalog, I am selecting LSST lenses\n",
      "OM10: selection yields 3126 lenses\n",
      "OM10: Extracted OM10 lens number 51773900:\n",
      " LENSID  FLAGTYPE NIMG ZLENS ... i_SDSS_quasar z_SDSS_quasar u_SDSS_quasar\n",
      "-------- -------- ---- ----- ... ------------- ------------- -------------\n",
      "51773900        0    2 1.286 ...         23.91 23.8197880138          99.0\n",
      "OM10: Extracted OM10 lens number 4578273:\n",
      " LENSID FLAGTYPE NIMG ZLENS ... i_SDSS_quasar z_SDSS_quasar u_SDSS_quasar\n",
      "------- -------- ---- ----- ... ------------- ------------- -------------\n",
      "4578273        0    2 0.468 ...         22.23  22.208939729 22.7154617791\n",
      "OM10: Extracted OM10 lens number 29197875:\n",
      " LENSID  FLAGTYPE NIMG ZLENS ... i_SDSS_quasar z_SDSS_quasar u_SDSS_quasar\n",
      "-------- -------- ---- ----- ... ------------- ------------- -------------\n",
      "29197875        0    2 0.988 ...         22.43 22.3926048692 22.8767145903\n",
      "saving the table with the name catalog.csv. Check your data folder (../../../data/)\n"
     ]
    }
   ],
   "source": [
    "realizer.make_catalog(num_system = 3)"
   ]
  },
  {
   "cell_type": "markdown",
   "metadata": {},
   "source": [
    "If we want to read the saved catalog, this is what we can do:"
   ]
  },
  {
   "cell_type": "code",
   "execution_count": 4,
   "metadata": {
    "collapsed": false,
    "scrolled": true
   },
   "outputs": [
    {
     "name": "stdout",
     "output_type": "stream",
     "text": [
      "            MJD filter         RA    RA_err        DEC   DEC_err         x  \\\n",
      "0  60336.037050      z  51.408577  0.023384  11.288463 -0.268330 -0.378054   \n",
      "1  60160.399405      z  54.831136 -0.452977   8.788951  0.035608  0.172473   \n",
      "2  59844.223991      r  52.523579  0.323526   8.359359  0.154233  0.011131   \n",
      "\n",
      "   x_com_err         y  y_com_err    ...         flux_err       qxx   qxx_err  \\\n",
      "0  -0.005688 -0.058389  -0.001098    ...     5.165326e+08  2.262922  0.123043   \n",
      "1   0.001550  0.017324   0.000130    ...     1.266385e+07  0.860162  0.042133   \n",
      "2   0.000079  0.005630   0.000090    ...     1.614442e+07  0.734909  0.028924   \n",
      "\n",
      "        qyy   qyy_err       qxy   qxy_err  psf_sigma        sky    lensid  \n",
      "0  2.268174  0.121538 -0.102042 -0.005982   1.478292  21.393475  51773900  \n",
      "1  0.544492  0.029561 -0.153237 -0.008151   0.688699  22.742112   4578273  \n",
      "2  0.691083  0.040119  0.009654  0.000269   0.830065  24.326122  29197875  \n",
      "\n",
      "[3 rows x 21 columns]\n"
     ]
    }
   ],
   "source": [
    "import pandas\n",
    "df = pandas.read_csv('../../../data/catalog.csv')\n",
    "print df"
   ]
  }
 ],
 "metadata": {
  "anaconda-cloud": {},
  "kernelspec": {
   "display_name": "Python [conda env:python2]",
   "language": "python",
   "name": "conda-env-python2-py"
  },
  "language_info": {
   "codemirror_mode": {
    "name": "ipython",
    "version": 2
   },
   "file_extension": ".py",
   "mimetype": "text/x-python",
   "name": "python",
   "nbconvert_exporter": "python",
   "pygments_lexer": "ipython2",
   "version": "2.7.12"
  }
 },
 "nbformat": 4,
 "nbformat_minor": 1
}
